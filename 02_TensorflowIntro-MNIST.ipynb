{
 "cells": [
  {
   "cell_type": "markdown",
   "metadata": {},
   "source": [
    "## IMPORT"
   ]
  },
  {
   "cell_type": "code",
   "execution_count": 1,
   "metadata": {},
   "outputs": [],
   "source": [
    "import tensorflow as tf\n",
    "from tensorflow import keras\n",
    "from tensorflow.keras.layers import Dense\n",
    "from tensorflow.keras.models import Sequential\n",
    "from tensorflow.keras.backend import clear_session\n",
    "import numpy as np\n",
    "import pandas as pd\n",
    "import sklearn\n",
    "from sklearn.metrics import accuracy_score\n",
    "import matplotlib.pyplot as plt"
   ]
  },
  {
   "cell_type": "code",
   "execution_count": 2,
   "metadata": {},
   "outputs": [
    {
     "name": "stdout",
     "output_type": "stream",
     "text": [
      "We are using TensorFlow:  2.6.0\n",
      "We are using Keras:  2.6.0\n"
     ]
    }
   ],
   "source": [
    "print(\"We are using TensorFlow: \", tf.__version__)\n",
    "print(\"We are using Keras: \", keras.__version__)"
   ]
  },
  {
   "cell_type": "markdown",
   "metadata": {},
   "source": [
    "## GPU Check"
   ]
  },
  {
   "cell_type": "code",
   "execution_count": 3,
   "metadata": {},
   "outputs": [
    {
     "name": "stdout",
     "output_type": "stream",
     "text": [
      "/device:GPU:0\n",
      "GPU 0: NVIDIA GeForce GTX 1050 Ti (UUID: GPU-fa68e8f4-96f0-d795-a3d2-b6344f49a27e)\n"
     ]
    }
   ],
   "source": [
    "# Check if GPU works\n",
    "print(tf.test.gpu_device_name())\n",
    "# GPU cout and name\n",
    "!nvidia-smi -L"
   ]
  },
  {
   "cell_type": "code",
   "execution_count": 4,
   "metadata": {},
   "outputs": [
    {
     "name": "stdout",
     "output_type": "stream",
     "text": [
      "Tue Aug  2 15:45:44 2022       \n",
      "+-----------------------------------------------------------------------------+\n",
      "| NVIDIA-SMI 516.01       Driver Version: 516.01       CUDA Version: 11.7     |\n",
      "|-------------------------------+----------------------+----------------------+\n",
      "| GPU  Name            TCC/WDDM | Bus-Id        Disp.A | Volatile Uncorr. ECC |\n",
      "| Fan  Temp  Perf  Pwr:Usage/Cap|         Memory-Usage | GPU-Util  Compute M. |\n",
      "|                               |                      |               MIG M. |\n",
      "|===============================+======================+======================|\n",
      "|   0  NVIDIA GeForce ... WDDM  | 00000000:08:00.0  On |                  N/A |\n",
      "| 30%   34C    P0    N/A /  75W |   1024MiB /  4096MiB |      4%      Default |\n",
      "|                               |                      |                  N/A |\n",
      "+-------------------------------+----------------------+----------------------+\n",
      "                                                                               \n",
      "+-----------------------------------------------------------------------------+\n",
      "| Processes:                                                                  |\n",
      "|  GPU   GI   CI        PID   Type   Process name                  GPU Memory |\n",
      "|        ID   ID                                                   Usage      |\n",
      "|=============================================================================|\n",
      "|    0   N/A  N/A      1172    C+G   ...\\Fork\\app-1.76.0\\Fork.exe    N/A      |\n",
      "|    0   N/A  N/A      7308    C+G   ...batNotificationClient.exe    N/A      |\n",
      "|    0   N/A  N/A      7704    C+G   ...\\Programs\\Opera\\opera.exe    N/A      |\n",
      "|    0   N/A  N/A      8360    C+G   ...tPlayer\\PotPlayerMini.exe    N/A      |\n",
      "|    0   N/A  N/A     11236    C+G   ...ype for Desktop\\Skype.exe    N/A      |\n",
      "|    0   N/A  N/A     12340    C+G   ...pp\\AutodeskDesktopApp.exe    N/A      |\n",
      "|    0   N/A  N/A     13088    C+G   ...5n1h2txyewy\\SearchApp.exe    N/A      |\n",
      "|    0   N/A  N/A     13344    C+G   ...\\app-1.0.9005\\Discord.exe    N/A      |\n",
      "|    0   N/A  N/A     13564    C+G   ...bBrowser\\AcWebBrowser.exe    N/A      |\n",
      "|    0   N/A  N/A     19308    C+G   ...264.77\\msedgewebview2.exe    N/A      |\n",
      "|    0   N/A  N/A     20260    C+G   ...gram Desktop\\Telegram.exe    N/A      |\n",
      "|    0   N/A  N/A     21276    C+G   ...ype for Desktop\\Skype.exe    N/A      |\n",
      "|    0   N/A  N/A     21512    C+G   ...me\\Application\\chrome.exe    N/A      |\n",
      "|    0   N/A  N/A     21932    C+G   ...s\\Stretchly\\Stretchly.exe    N/A      |\n",
      "|    0   N/A  N/A     22100    C+G   C:\\Windows\\explorer.exe         N/A      |\n",
      "|    0   N/A  N/A     22600    C+G   ...ck\\app-4.27.154\\slack.exe    N/A      |\n",
      "|    0   N/A  N/A     23644    C+G   ...ropbox\\Client\\Dropbox.exe    N/A      |\n",
      "|    0   N/A  N/A     24268    C+G   ...y\\ShellExperienceHost.exe    N/A      |\n",
      "|    0   N/A  N/A     26656    C+G   ...icrosoft VS Code\\Code.exe    N/A      |\n",
      "|    0   N/A  N/A     27400    C+G   ...nputApp\\TextInputHost.exe    N/A      |\n",
      "|    0   N/A  N/A     27956      C   ...\\app-1.0.9005\\Discord.exe    N/A      |\n",
      "|    0   N/A  N/A     28568    C+G   ..._dt26b99r8h8gj\\RtkUWP.exe    N/A      |\n",
      "|    0   N/A  N/A     28788    C+G   ...Files (x86)\\Joxi\\joxi.exe    N/A      |\n",
      "|    0   N/A  N/A     32752      C   ...conda3\\envs\\tf\\python.exe    N/A      |\n",
      "+-----------------------------------------------------------------------------+\n"
     ]
    }
   ],
   "source": [
    "# GPU activity\n",
    "!nvidia-smi"
   ]
  },
  {
   "cell_type": "markdown",
   "metadata": {},
   "source": [
    "## MNIST"
   ]
  },
  {
   "cell_type": "code",
   "execution_count": 5,
   "metadata": {},
   "outputs": [],
   "source": [
    "# Data downloading\n",
    "(x_train, y_train),(x_val, y_val) = tf.keras.datasets.mnist.load_data()"
   ]
  },
  {
   "cell_type": "code",
   "execution_count": 6,
   "metadata": {},
   "outputs": [
    {
     "name": "stdout",
     "output_type": "stream",
     "text": [
      "(60000, 28, 28)\n",
      "(60000,)\n",
      "[5 0 4 1 9 2 1 3 1 4]\n"
     ]
    }
   ],
   "source": [
    "# Data shape\n",
    "print(x_train.shape)\n",
    "print(y_train.shape)\n",
    "print(y_train[:10])"
   ]
  },
  {
   "cell_type": "code",
   "execution_count": 7,
   "metadata": {},
   "outputs": [
    {
     "data": {
      "image/png": "[encoded data removed]",
      "text/plain": [
       "<Figure size 720x720 with 25 Axes>"
      ]
     },
     "metadata": {},
     "output_type": "display_data"
    }
   ],
   "source": [
    "# Show Images\n",
    "plt.figure(figsize=(10, 10))\n",
    "for i in range(25):\n",
    "    plt.subplot(5, 5, i+1)\n",
    "    plt.xticks([])\n",
    "    plt.yticks([])\n",
    "    plt.grid(False)\n",
    "    plt.imshow(x_train[i+100], cmap=\"Greys\")\n"
   ]
  },
  {
   "cell_type": "markdown",
   "metadata": {},
   "source": []
  },
  {
   "cell_type": "code",
   "execution_count": 8,
   "metadata": {},
   "outputs": [
    {
     "name": "stdout",
     "output_type": "stream",
     "text": [
      "(60000, 28, 28) (60000, 784)\n",
      "(10000, 28, 28) (10000, 784)\n"
     ]
    }
   ],
   "source": [
    "# Reshape Data\n",
    "x_train_flat = x_train.reshape(-1, 28*28).astype(float)\n",
    "print(x_train.shape, x_train_flat.shape)\n",
    "\n",
    "x_val_flat =  x_val.reshape(-1, 28*28).astype(float)\n",
    "print(x_val.shape, x_val_flat.shape)"
   ]
  },
  {
   "cell_type": "code",
   "execution_count": 9,
   "metadata": {},
   "outputs": [],
   "source": [
    "# Rescaling Data\n",
    "x_train_float = x_train_flat.astype(float) / 255 - 0.5\n",
    "x_val_float = x_val_flat.astype(float) / 255 - 0.5\n",
    "\n",
    "# # Without Rescaling\n",
    "# x_train_float = x_train_flat.astype(float)\n",
    "# x_val_float = x_val_flat.astype(float)"
   ]
  },
  {
   "cell_type": "code",
   "execution_count": 10,
   "metadata": {},
   "outputs": [
    {
     "name": "stdout",
     "output_type": "stream",
     "text": [
      "(60000, 10)\n",
      "[[0. 0. 0. 0. 0. 1. 0. 0. 0. 0.]\n",
      " [1. 0. 0. 0. 0. 0. 0. 0. 0. 0.]\n",
      " [0. 0. 0. 0. 1. 0. 0. 0. 0. 0.]\n",
      " [0. 1. 0. 0. 0. 0. 0. 0. 0. 0.]\n",
      " [0. 0. 0. 0. 0. 0. 0. 0. 0. 1.]] [5 0 4 1 9]\n"
     ]
    }
   ],
   "source": [
    "# One-hot encoding\n",
    "y_train_oh = keras.utils.to_categorical(y_train, 10)\n",
    "y_val_oh = keras.utils.to_categorical(y_val, 10)\n",
    "\n",
    "print(y_train_oh.shape)\n",
    "print(y_train_oh[:5], y_train[:5])"
   ]
  },
  {
   "cell_type": "markdown",
   "metadata": {},
   "source": [
    "## Multi Layer Perceptron (MLP) Keras"
   ]
  },
  {
   "cell_type": "code",
   "execution_count": 11,
   "metadata": {},
   "outputs": [],
   "source": [
    "clear_session()"
   ]
  },
  {
   "cell_type": "code",
   "execution_count": 12,
   "metadata": {},
   "outputs": [],
   "source": [
    "# Neural Network Architecture\n",
    "model = Sequential()\n",
    "model.add(Dense(128, activation='relu', input_shape=(x_train_float.shape[1],)))\n",
    "model.add(Dense(128, activation='relu',))\n",
    "model.add(Dense(10, activation='softmax',))"
   ]
  },
  {
   "cell_type": "code",
   "execution_count": 13,
   "metadata": {},
   "outputs": [
    {
     "name": "stdout",
     "output_type": "stream",
     "text": [
      "Model: \"sequential\"\n",
      "_________________________________________________________________\n",
      "Layer (type)                 Output Shape              Param #   \n",
      "=================================================================\n",
      "dense (Dense)                (None, 128)               100480    \n",
      "_________________________________________________________________\n",
      "dense_1 (Dense)              (None, 128)               16512     \n",
      "_________________________________________________________________\n",
      "dense_2 (Dense)              (None, 10)                1290      \n",
      "=================================================================\n",
      "Total params: 118,282\n",
      "Trainable params: 118,282\n",
      "Non-trainable params: 0\n",
      "_________________________________________________________________\n"
     ]
    }
   ],
   "source": [
    "model.summary()"
   ]
  },
  {
   "cell_type": "code",
   "execution_count": 14,
   "metadata": {},
   "outputs": [],
   "source": [
    "model.compile(\n",
    "    loss = 'categorical_crossentropy',\n",
    "    optimizer='adam',\n",
    "    metrics=['accuracy']\n",
    ")"
   ]
  },
  {
   "cell_type": "code",
   "execution_count": 15,
   "metadata": {},
   "outputs": [
    {
     "name": "stdout",
     "output_type": "stream",
     "text": [
      "Epoch 1/10\n",
      "1875/1875 [==============================] - 5s 2ms/step - loss: 0.3149 - accuracy: 0.9040 - val_loss: 0.1742 - val_accuracy: 0.9460\n",
      "Epoch 2/10\n",
      "1875/1875 [==============================] - 4s 2ms/step - loss: 0.1590 - accuracy: 0.9510 - val_loss: 0.1356 - val_accuracy: 0.9578\n",
      "Epoch 3/10\n",
      "1875/1875 [==============================] - 5s 3ms/step - loss: 0.1179 - accuracy: 0.9643 - val_loss: 0.1006 - val_accuracy: 0.9697\n",
      "Epoch 4/10\n",
      "1875/1875 [==============================] - 5s 3ms/step - loss: 0.0961 - accuracy: 0.9697 - val_loss: 0.0962 - val_accuracy: 0.9699\n",
      "Epoch 5/10\n",
      "1875/1875 [==============================] - 5s 3ms/step - loss: 0.0858 - accuracy: 0.9732 - val_loss: 0.1062 - val_accuracy: 0.9674\n",
      "Epoch 6/10\n",
      "1875/1875 [==============================] - 5s 3ms/step - loss: 0.0720 - accuracy: 0.9772 - val_loss: 0.0910 - val_accuracy: 0.9709\n",
      "Epoch 7/10\n",
      "1875/1875 [==============================] - 5s 3ms/step - loss: 0.0654 - accuracy: 0.9790 - val_loss: 0.0940 - val_accuracy: 0.9713\n",
      "Epoch 8/10\n",
      "1875/1875 [==============================] - 5s 3ms/step - loss: 0.0565 - accuracy: 0.9812 - val_loss: 0.1262 - val_accuracy: 0.9622\n",
      "Epoch 9/10\n",
      "1875/1875 [==============================] - 5s 3ms/step - loss: 0.0545 - accuracy: 0.9819 - val_loss: 0.1014 - val_accuracy: 0.9719\n",
      "Epoch 10/10\n",
      "1875/1875 [==============================] - 5s 3ms/step - loss: 0.0483 - accuracy: 0.9838 - val_loss: 0.0916 - val_accuracy: 0.9764\n"
     ]
    }
   ],
   "source": [
    "history = model.fit(\n",
    "    x_train_float,\n",
    "    y_train_oh,\n",
    "    batch_size=32,\n",
    "    epochs=10,\n",
    "    validation_data=(x_val_float, y_val_oh)\n",
    ")"
   ]
  },
  {
   "cell_type": "markdown",
   "metadata": {},
   "source": [
    "## Plot Traning Values"
   ]
  },
  {
   "cell_type": "code",
   "execution_count": 16,
   "metadata": {},
   "outputs": [
    {
     "data": {
      "image/png": "[encoded data removed]",
      "text/plain": [
       "<Figure size 720x360 with 1 Axes>"
      ]
     },
     "metadata": {},
     "output_type": "display_data"
    }
   ],
   "source": [
    "# Plot traning and validation accuracy values\n",
    "plt.style.use(['dark_background'])\n",
    "fig, ax = plt.subplots(figsize=(10, 5))\n",
    "plt.plot(history.history['accuracy'])\n",
    "plt.plot(history.history['val_accuracy'])\n",
    "plt.title('Model accuracy')\n",
    "plt.ylabel('Accuracy')\n",
    "plt.xlabel('Epochs')\n",
    "plt.legend(['Train', 'Test'], loc='upper left')\n",
    "plt.show()"
   ]
  },
  {
   "cell_type": "code",
   "execution_count": 19,
   "metadata": {},
   "outputs": [
    {
     "data": {
      "image/png": "[encoded data removed]",
      "text/plain": [
       "<Figure size 720x360 with 1 Axes>"
      ]
     },
     "metadata": {},
     "output_type": "display_data"
    }
   ],
   "source": [
    "# Plot training & validation loss values\n",
    "plt.style.use('dark_background')\n",
    "fig, ax = plt.subplots(figsize=(10, 5))\n",
    "plt.plot(history.history['loss'])\n",
    "plt.plot(history.history['val_loss'])\n",
    "plt.title('Model loss')\n",
    "plt.ylabel('Loss')\n",
    "plt.xlabel('Epochs')\n",
    "plt.legend(['Train', 'Test'], loc='upper left')\n",
    "plt.show()"
   ]
  },
  {
   "cell_type": "code",
   "execution_count": 21,
   "metadata": {},
   "outputs": [
    {
     "data": {
      "text/plain": [
       "array([[5.0480232e-12, 2.2459767e-08, 2.0625816e-06, ..., 9.9972874e-01,\n",
       "        1.7754493e-09, 5.5956866e-07],\n",
       "       [1.3719954e-10, 2.7863232e-05, 9.9997187e-01, ..., 1.2994693e-11,\n",
       "        2.1306998e-07, 1.3639445e-16],\n",
       "       [1.0832094e-10, 9.9999642e-01, 5.1187861e-08, ..., 1.0728403e-06,\n",
       "        5.9862373e-08, 1.2502296e-09],\n",
       "       ...,\n",
       "       [2.9123370e-19, 4.5044700e-13, 3.7341071e-14, ..., 1.5493883e-07,\n",
       "        1.0319173e-09, 2.9724788e-07],\n",
       "       [1.8364311e-08, 9.1147535e-07, 1.6136614e-08, ..., 6.4209331e-08,\n",
       "        3.5778090e-02, 4.2052180e-09],\n",
       "       [1.7527868e-11, 1.8422702e-14, 1.7812971e-10, ..., 2.4824179e-15,\n",
       "        1.0602723e-10, 1.3514286e-12]], dtype=float32)"
      ]
     },
     "execution_count": 21,
     "metadata": {},
     "output_type": "execute_result"
    }
   ],
   "source": [
    "model.predict(x_val_float)"
   ]
  },
  {
   "cell_type": "code",
   "execution_count": 28,
   "metadata": {},
   "outputs": [
    {
     "name": "stdout",
     "output_type": "stream",
     "text": [
      "[7 2 1 ... 4 5 6]\n"
     ]
    }
   ],
   "source": [
    "# Predict Classes\n",
    "predicts = np.argmax(model.predict(x_val_float), axis=1)\n",
    "print(predicts)"
   ]
  },
  {
   "cell_type": "code",
   "execution_count": 29,
   "metadata": {},
   "outputs": [
    {
     "name": "stdout",
     "output_type": "stream",
     "text": [
      "Accuracy:  0.9764\n"
     ]
    }
   ],
   "source": [
    "print(\"Accuracy: \", accuracy_score(y_val, predicts))"
   ]
  },
  {
   "cell_type": "code",
   "execution_count": null,
   "metadata": {},
   "outputs": [],
   "source": []
  }
 ],
 "metadata": {
  "kernelspec": {
   "display_name": "Python 3.9.12 ('tf')",
   "language": "python",
   "name": "python3"
  },
  "language_info": {
   "codemirror_mode": {
    "name": "ipython",
    "version": 3
   },
   "file_extension": ".py",
   "mimetype": "text/x-python",
   "name": "python",
   "nbconvert_exporter": "python",
   "pygments_lexer": "ipython3",
   "version": "3.9.12"
  },
  "orig_nbformat": 4,
  "vscode": {
   "interpreter": {
    "hash": "78ddfc3686b8b7161f2836984651df038ec9a0366954334fc42499f59ad2b3c8"
   }
  }
 },
 "nbformat": 4,
 "nbformat_minor": 2
}
